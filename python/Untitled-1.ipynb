{
 "cells": [
  {
   "cell_type": "code",
   "execution_count": 28,
   "id": "36ad34ae",
   "metadata": {},
   "outputs": [
    {
     "name": "stdout",
     "output_type": "stream",
     "text": [
      "hello, wworld!\n"
     ]
    }
   ],
   "source": [
    "print(\"hello, wworld!\")"
   ]
  },
  {
   "cell_type": "code",
   "execution_count": 29,
   "id": "3e1e7e4c",
   "metadata": {},
   "outputs": [
    {
     "name": "stdout",
     "output_type": "stream",
     "text": [
      "3\n",
      "3\n",
      "35\n"
     ]
    }
   ],
   "source": [
    "a =  eval (input(\"nhap a: \"))\n",
    "b = eval(input(\"nhap b: \"))\n",
    "\n",
    "print(a + b )\n",
    "\n",
    "c = eval (\"7+2  + 2*(6+7)\")\n",
    "print(a+b)\n",
    "print(c)"
   ]
  },
  {
   "cell_type": "code",
   "execution_count": 30,
   "id": "41889447",
   "metadata": {},
   "outputs": [
    {
     "name": "stdout",
     "output_type": "stream",
     "text": [
      "<class 'int'>\n",
      "5-888\n",
      "<class 'str'>\n"
     ]
    }
   ],
   "source": [
    "a = 5 \n",
    "print(type(a));\n",
    "a = str (a)\n",
    "a +='-888'\n",
    "print(a)\n",
    "print(type(a));"
   ]
  },
  {
   "cell_type": "markdown",
   "id": "8c51a199",
   "metadata": {},
   "source": [
    "họ tên >> hoTen  >> _Ho Ten"
   ]
  },
  {
   "cell_type": "code",
   "execution_count": 31,
   "id": "f289e983",
   "metadata": {},
   "outputs": [
    {
     "name": "stdout",
     "output_type": "stream",
     "text": [
      "aaa-bbb-aaa./.aaa\n"
     ]
    }
   ],
   "source": [
    "x , y  ='aaa', 'bbb'\n",
    "z = x\n",
    "print(x, y, z,sep=\"-\", end=(\"./.\"))\n",
    "print(z)"
   ]
  },
  {
   "cell_type": "code",
   "execution_count": 32,
   "id": "a0470c14",
   "metadata": {},
   "outputs": [
    {
     "name": "stdout",
     "output_type": "stream",
     "text": [
      "a = 5-888, và biến z=aaa\n",
      " a= 5-888 và d  = 100.880000\n"
     ]
    }
   ],
   "source": [
    "print (f\"a = {a}, và biến z={z}\")\n",
    "\n",
    "d = 100.88\n",
    "print (\" a= %s và d  = %f\" %(a,d))"
   ]
  },
  {
   "cell_type": "code",
   "execution_count": 33,
   "id": "9c6dbdee",
   "metadata": {},
   "outputs": [
    {
     "ename": "ValueError",
     "evalue": "not enough values to unpack (expected 2, got 1)",
     "output_type": "error",
     "traceback": [
      "\u001b[31m---------------------------------------------------------------------------\u001b[39m",
      "\u001b[31mValueError\u001b[39m                                Traceback (most recent call last)",
      "\u001b[36mCell\u001b[39m\u001b[36m \u001b[39m\u001b[32mIn[33]\u001b[39m\u001b[32m, line 1\u001b[39m\n\u001b[32m----> \u001b[39m\u001b[32m1\u001b[39m a , b = \u001b[38;5;28minput\u001b[39m(\u001b[33m\"\u001b[39m\u001b[33mnhập 2 số :\u001b[39m\u001b[33m\"\u001b[39m).split()\n\u001b[32m      3\u001b[39m \u001b[38;5;28mprint\u001b[39m ( a, b , a+b)\n",
      "\u001b[31mValueError\u001b[39m: not enough values to unpack (expected 2, got 1)"
     ]
    }
   ],
   "source": [
    "a , b = input(\"nhập 2 số :\").split()\n",
    "\n",
    "print ( a, b , a+b)"
   ]
  },
  {
   "cell_type": "code",
   "execution_count": null,
   "id": "a7490cbb",
   "metadata": {},
   "outputs": [
    {
     "name": "stdout",
     "output_type": "stream",
     "text": [
      "11\n"
     ]
    }
   ],
   "source": [
    "x , y = input(\"nhập 2 số :\").split()\n",
    "\n",
    "z = int (x) + int(y);\n",
    "print(z)"
   ]
  },
  {
   "cell_type": "markdown",
   "id": "436ae5ef",
   "metadata": {},
   "source": [
    "0 là phon\n",
    "số là trull"
   ]
  },
  {
   "cell_type": "code",
   "execution_count": null,
   "id": "6cc5c48b",
   "metadata": {},
   "outputs": [
    {
     "name": "stdout",
     "output_type": "stream",
     "text": [
      "dien tích = 120\n"
     ]
    }
   ],
   "source": [
    "d = int(input(\"dai  \"))\n",
    "r = int(input(\"rộng  \"))\n",
    "int= print(f\"dien tích = {d * r}\")"
   ]
  },
  {
   "cell_type": "code",
   "execution_count": null,
   "id": "d0396b2e",
   "metadata": {},
   "outputs": [
    {
     "name": "stdout",
     "output_type": "stream",
     "text": [
      "diện tích hình chữ nhật là 340\n"
     ]
    }
   ],
   "source": [
    "a=input(\"chiều dài của hình chữ nhật: \")\n",
    "b=input(\"chiều rộng của hình chữ nhật: \")\n",
    "f= int(a) * int(b)\n",
    "print(f\"diện tích hình chữ nhật là {f}\")\n",
    "\n",
    "\n"
   ]
  },
  {
   "cell_type": "code",
   "execution_count": null,
   "id": "015329a5",
   "metadata": {},
   "outputs": [
    {
     "name": "stdout",
     "output_type": "stream",
     "text": [
      "h-\n",
      "0:h\n",
      "1:e\n",
      "2:l\n",
      "3:l\n",
      "4:o\n",
      "e-\n",
      "0:h\n",
      "1:e\n",
      "2:l\n",
      "3:l\n",
      "4:o\n",
      "l-\n",
      "0:h\n",
      "1:e\n",
      "2:l\n",
      "3:l\n",
      "4:o\n",
      "l-\n",
      "0:h\n",
      "1:e\n",
      "2:l\n",
      "3:l\n",
      "4:o\n",
      "o-\n",
      "0:h\n",
      "1:e\n",
      "2:l\n",
      "3:l\n",
      "4:o\n"
     ]
    }
   ],
   "source": [
    "a = \"hello\"\n",
    "for x in a:\n",
    "    print(x ,end = '-')\n",
    "    print()\n",
    "    for i in range(len(a)):\n",
    "        print(i, \":\",a[i] , sep=\"\")\n",
    "       "
   ]
  },
  {
   "cell_type": "markdown",
   "id": "bc8c56b1",
   "metadata": {},
   "source": [
    "bool\n",
    "toan tu\n",
    "if\n",
    "loop for/while\n",
    "list"
   ]
  },
  {
   "cell_type": "code",
   "execution_count": null,
   "id": "585076af",
   "metadata": {},
   "outputs": [
    {
     "name": "stdout",
     "output_type": "stream",
     "text": [
      "2\n"
     ]
    }
   ],
   "source": [
    "x=3 \n",
    "x&=2\n",
    "print(x)"
   ]
  },
  {
   "cell_type": "markdown",
   "id": "ba3a7772",
   "metadata": {},
   "source": [
    "1011=11\n",
    "1101=13"
   ]
  },
  {
   "cell_type": "code",
   "execution_count": null,
   "id": "c079a079",
   "metadata": {},
   "outputs": [
    {
     "name": "stdout",
     "output_type": "stream",
     "text": [
      "9\n"
     ]
    }
   ],
   "source": [
    "x=13\n",
    "x&=11\n",
    "print(x)"
   ]
  },
  {
   "cell_type": "code",
   "execution_count": 6,
   "id": "c03ad200",
   "metadata": {},
   "outputs": [
    {
     "name": "stdout",
     "output_type": "stream",
     "text": [
      "2\n"
     ]
    }
   ],
   "source": [
    "x=a\n",
    "x&=2\n",
    "print(x)"
   ]
  },
  {
   "cell_type": "code",
   "execution_count": null,
   "id": "d3936a52",
   "metadata": {},
   "outputs": [
    {
     "name": "stdout",
     "output_type": "stream",
     "text": [
      "3\n"
     ]
    }
   ],
   "source": [
    "x=2 \n",
    "x|=3\n",
    "print(x)"
   ]
  },
  {
   "cell_type": "code",
   "execution_count": null,
   "id": "fe0e5cf6",
   "metadata": {},
   "outputs": [
    {
     "name": "stdout",
     "output_type": "stream",
     "text": [
      "7\n"
     ]
    }
   ],
   "source": [
    "x=4\n",
    "x^=3\n",
    "print(x)"
   ]
  },
  {
   "cell_type": "code",
   "execution_count": null,
   "id": "ca351d67",
   "metadata": {},
   "outputs": [
    {
     "name": "stdout",
     "output_type": "stream",
     "text": [
      "6\n"
     ]
    }
   ],
   "source": [
    "x=3\n",
    "x<<=1\n",
    "print(x)"
   ]
  },
  {
   "cell_type": "code",
   "execution_count": null,
   "id": "23cc5eac",
   "metadata": {},
   "outputs": [
    {
     "name": "stdout",
     "output_type": "stream",
     "text": [
      "1\n"
     ]
    }
   ],
   "source": [
    "x=7\n",
    "x>>=2\n",
    "print(x)"
   ]
  },
  {
   "cell_type": "code",
   "execution_count": null,
   "id": "552dd2df",
   "metadata": {},
   "outputs": [
    {
     "name": "stdout",
     "output_type": "stream",
     "text": [
      "0\n"
     ]
    }
   ],
   "source": [
    "x=1\n",
    "x>>=1\n",
    "print(x)"
   ]
  },
  {
   "cell_type": "markdown",
   "id": "edc167d2",
   "metadata": {},
   "source": [
    "so sanh and,or,not\n",
    "giong nhau 2 bien is, is not"
   ]
  },
  {
   "cell_type": "markdown",
   "id": "31cf17c8",
   "metadata": {},
   "source": [
    "& and, |or, ^ xor, "
   ]
  },
  {
   "cell_type": "markdown",
   "id": "4435a7ef",
   "metadata": {},
   "source": [
    "câu lệnh if (đk)\n",
    "slse\n",
    "\n",
    "if\n",
    "elif (đk)\n",
    "elif  (đk)\n",
    "else"
   ]
  },
  {
   "cell_type": "code",
   "execution_count": null,
   "id": "57b3836f",
   "metadata": {},
   "outputs": [
    {
     "name": "stdout",
     "output_type": "stream",
     "text": [
      "(1, 2, 3, -3, -2, -1)\n"
     ]
    }
   ],
   "source": [
    "x=1 , 2 ,3 ,-3,-2,-1\n",
    "number = 3\n",
    "if number > 0:\n",
    "    print(x)"
   ]
  },
  {
   "cell_type": "code",
   "execution_count": 4,
   "id": "5f58dd36",
   "metadata": {},
   "outputs": [
    {
     "name": "stdout",
     "output_type": "stream",
     "text": [
      "so lon nhat la 13\n"
     ]
    }
   ],
   "source": [
    "a = int ( input (\"nhâp a: \"))\n",
    "b = int (input(\"nhâp b: \"))\n",
    "c = int (input(\"nhâp c: \"))\n",
    "imax = a \n",
    "if imax < b:\n",
    "    imax = b\n",
    "    if imax < c:\n",
    "        imax = c\n",
    "        print(f\"so lon nhat la {imax}\")"
   ]
  },
  {
   "cell_type": "code",
   "execution_count": 2,
   "id": "027c282c",
   "metadata": {},
   "outputs": [
    {
     "ename": "NameError",
     "evalue": "name 'imax' is not defined",
     "output_type": "error",
     "traceback": [
      "\u001b[31m---------------------------------------------------------------------------\u001b[39m",
      "\u001b[31mNameError\u001b[39m                                 Traceback (most recent call last)",
      "\u001b[36mCell\u001b[39m\u001b[36m \u001b[39m\u001b[32mIn[2]\u001b[39m\u001b[32m, line 4\u001b[39m\n\u001b[32m      2\u001b[39m b = \u001b[38;5;28mint\u001b[39m (\u001b[38;5;28minput\u001b[39m(\u001b[33m\"\u001b[39m\u001b[33mnhap b: \u001b[39m\u001b[33m\"\u001b[39m))\n\u001b[32m      3\u001b[39m c = \u001b[38;5;28mint\u001b[39m (\u001b[38;5;28minput\u001b[39m(\u001b[33m\"\u001b[39m\u001b[33mnhap c: \u001b[39m\u001b[33m\"\u001b[39m))\n\u001b[32m----> \u001b[39m\u001b[32m4\u001b[39m \u001b[38;5;28;01mif\u001b[39;00m \u001b[43mimax\u001b[49m < a:\n\u001b[32m      5\u001b[39m     imax = a\n\u001b[32m      6\u001b[39m     imax = b\n",
      "\u001b[31mNameError\u001b[39m: name 'imax' is not defined"
     ]
    }
   ],
   "source": [
    "a = int (input(\"nhap a: \"))\n",
    "b = int (input(\"nhap b: \"))\n",
    "c = int (input(\"nhap c: \"))\n",
    "if imax < a:\n",
    "    imax = a\n",
    "    imax = b\n",
    "if imax < c:\n",
    "    imax = c\n",
    "    print(f\"so lon nhat la {imax}\")"
   ]
  },
  {
   "cell_type": "code",
   "execution_count": 35,
   "id": "137d4028",
   "metadata": {},
   "outputs": [
    {
     "name": "stdout",
     "output_type": "stream",
     "text": [
      "so giua la 4\n"
     ]
    }
   ],
   "source": [
    "a = int (input(\"nhap a: \"))\n",
    "b = int(input(\"nhap b: \"))    \n",
    "c = int(input(\"nhap c: \"))\n",
    "giua =a\n",
    "# kiểm tra b co là giữa\n",
    "if (a < b and b < c ) or (c < b and b < a):\n",
    "    giua = b\n",
    "    #kiểm tra c có là giữa\n",
    "if (a < c and c < b) or (b < c and c < a):\n",
    "    giua = c\n",
    "print(f\"so giua la {giua}\")"
   ]
  },
  {
   "cell_type": "code",
   "execution_count": 44,
   "id": "90b00b66",
   "metadata": {},
   "outputs": [
    {
     "name": "stdout",
     "output_type": "stream",
     "text": [
      "ất "
     ]
    }
   ],
   "source": [
    "ns = int (input(\"nhap  năm sinh : \"))\n",
    "can = ns % 10\n",
    "chi = ns % 12\n",
    "#xuát can  \n",
    "if (can == 0):\n",
    "    print( \"canh\",end=\" \")\n",
    "elif (can == 1):    \n",
    "    print(\"tân\",end=\" \")\n",
    "elif (can == 2):\n",
    "    print(\"nhâm\",end=\" \")\n",
    "elif (can == 3):\n",
    "    print(\"quý\",end=\" \")\n",
    "elif (can == 4):\n",
    "    print(\"giáp\",end=\" \")\n",
    "elif (can == 5):\n",
    "    print(\"ất\",end=\" \")\n",
    "elif (can == 6):\n",
    "    print(\"bính\",end=\" \")\n",
    "elif (can == 7):\n",
    "    print(\"đinh\",end=\" \")\n",
    "elif (can == 8):\n",
    "    print(\"mậu\",end=\" \")\n",
    "elif (can == 9):\n",
    "    print(\"mau \", end=\" \")\n",
    "   \n",
    "    \n",
    "    \n",
    "    \n",
    "    #xuất chi\n",
    "    if (chi == 0):\n",
    "        print(\"thân\")\n",
    "    elif (chi == 1):\n",
    "        print(\"dậu\")        \n",
    "    elif (chi == 2):\n",
    "        print(\"tuất\")\n",
    "    elif (chi == 3):\n",
    "        print(\"hợi\")\n",
    "    elif (chi == 4):\n",
    "        print(\"tý\")\n",
    "    elif (chi == 5):        \n",
    "        print(\"sửu\")\n",
    "    elif (chi == 6):\n",
    "        print(\"dần\")\n",
    "    elif (chi == 7):\n",
    "        print(\"mão\")\n",
    "    elif (chi == 8):\n",
    "        print(\"thìn\")\n",
    "    elif (chi == 9):\n",
    "        print(\"tỵ\")\n",
    "    elif (chi == 10):\n",
    "        print(\"ngọ\")\n",
    "    else:\n",
    "        print(\"mùi\")    \n",
    "    \n",
    "    "
   ]
  },
  {
   "cell_type": "markdown",
   "id": "be88cbae",
   "metadata": {},
   "source": [
    "for & in \n",
    "for x in "
   ]
  },
  {
   "cell_type": "code",
   "execution_count": 48,
   "id": "d189bbcf",
   "metadata": {},
   "outputs": [
    {
     "name": "stdout",
     "output_type": "stream",
     "text": [
      " .\n",
      "\n",
      " print with slice \n",
      " .a.b.c.1.2.3. .a.b.c.1.2.3. .a.b.c.1.2.3. .a.b.c.1.2.3. .a.b.c.1.2.3. .a.b.c.1.2.3. .a.b.c.1.2.3.a.\n",
      "\n",
      " print with slice \n",
      " .a.b.c.1.2.3. .a.b.c.1.2.3. .a.b.c.1.2.3. .a.b.c.1.2.3. .a.b.c.1.2.3. .a.b.c.1.2.3. .a.b.c.1.2.3.b.\n",
      "\n",
      " print with slice \n",
      " .a.b.c.1.2.3. .a.b.c.1.2.3. .a.b.c.1.2.3. .a.b.c.1.2.3. .a.b.c.1.2.3. .a.b.c.1.2.3. .a.b.c.1.2.3.c.\n",
      "\n",
      " print with slice \n",
      " .a.b.c.1.2.3. .a.b.c.1.2.3. .a.b.c.1.2.3. .a.b.c.1.2.3. .a.b.c.1.2.3. .a.b.c.1.2.3. .a.b.c.1.2.3.1.\n",
      "\n",
      " print with slice \n",
      " .a.b.c.1.2.3. .a.b.c.1.2.3. .a.b.c.1.2.3. .a.b.c.1.2.3. .a.b.c.1.2.3. .a.b.c.1.2.3. .a.b.c.1.2.3.2.\n",
      "\n",
      " print with slice \n",
      " .a.b.c.1.2.3. .a.b.c.1.2.3. .a.b.c.1.2.3. .a.b.c.1.2.3. .a.b.c.1.2.3. .a.b.c.1.2.3. .a.b.c.1.2.3.3.\n",
      "\n",
      " print with slice \n",
      " .a.b.c.1.2.3. .a.b.c.1.2.3. .a.b.c.1.2.3. .a.b.c.1.2.3. .a.b.c.1.2.3. .a.b.c.1.2.3. .a.b.c.1.2.3.\n",
      "\n",
      " print with slice \n",
      "b.c.1."
     ]
    }
   ],
   "source": [
    "s = \" abc123\"\n",
    "for x in s:\n",
    "    print(x, end='.')\n",
    "    print( \"\\n\\n print with slice \")\n",
    "    for x in s[:]:\n",
    "        for x in s[:]:\n",
    "            print(x, end='.')\n",
    "        \n",
    "print(\"\\n\\n print with slice \")\n",
    "for x in s[2:5]:\n",
    "    print(x, end='.')\n",
    "\n",
    "    \n",
    "        \n",
    "    "
   ]
  },
  {
   "cell_type": "code",
   "execution_count": null,
   "id": "34a11e7a",
   "metadata": {},
   "outputs": [
    {
     "name": "stdout",
     "output_type": "stream",
     "text": [
      "3\n",
      "6\n",
      "9\n"
     ]
    }
   ],
   "source": [
    "n = int(input(\"nhập n= \"))\n",
    "for i in range(n+1):\n",
    "    if (i !=0):\n",
    "        if (i % 3==0):\n",
    "            print (i)\n",
    "   "
   ]
  },
  {
   "cell_type": "code",
   "execution_count": 54,
   "id": "0bf31800",
   "metadata": {},
   "outputs": [
    {
     "name": "stdout",
     "output_type": "stream",
     "text": [
      "gà 2\n",
      "gà 4\n",
      "chó 4\n",
      "gà chó 4\n",
      "gà 6\n",
      "gà 8\n",
      "chó 8\n",
      "gà chó 8\n",
      "gà 10\n",
      "gà 12\n",
      "chó 12\n",
      "gà chó 12\n",
      "gà 14\n",
      "gà 16\n",
      "chó 16\n",
      "gà chó 16\n",
      "gà 18\n",
      "gà 20\n",
      "chó 20\n",
      "gà chó 20\n",
      "gà 22\n",
      "gà 24\n",
      "chó 24\n",
      "gà chó 24\n",
      "gà 26\n",
      "gà 28\n",
      "chó 28\n",
      "gà chó 28\n",
      "gà 30\n",
      "gà 32\n",
      "chó 32\n",
      "gà chó 32\n",
      "gà 34\n",
      "gà 36\n",
      "chó 36\n",
      "gà chó 36\n",
      "gà 38\n",
      "gà 40\n",
      "chó 40\n",
      "gà chó 40\n",
      "gà 42\n",
      "gà 44\n",
      "chó 44\n",
      "gà chó 44\n",
      "gà 46\n",
      "gà 48\n",
      "chó 48\n",
      "gà chó 48\n",
      "gà 50\n",
      "gà 52\n",
      "chó 52\n",
      "gà chó 52\n",
      "gà 54\n",
      "gà 56\n",
      "chó 56\n",
      "gà chó 56\n",
      "gà 58\n",
      "gà 60\n",
      "chó 60\n",
      "gà chó 60\n",
      "gà 62\n",
      "gà 64\n",
      "chó 64\n",
      "gà chó 64\n",
      "gà 66\n",
      "gà 68\n",
      "chó 68\n",
      "gà chó 68\n",
      "gà 70\n",
      "gà 72\n",
      "chó 72\n",
      "gà chó 72\n",
      "gà 74\n",
      "gà 76\n",
      "chó 76\n",
      "gà chó 76\n",
      "gà 78\n",
      "gà 80\n",
      "chó 80\n",
      "gà chó 80\n",
      "gà 82\n",
      "gà 84\n",
      "chó 84\n",
      "gà chó 84\n",
      "gà 86\n",
      "gà 88\n",
      "chó 88\n",
      "gà chó 88\n",
      "gà 90\n",
      "gà 92\n",
      "chó 92\n",
      "gà chó 92\n",
      "gà 94\n",
      "gà 96\n",
      "chó 96\n",
      "gà chó 96\n",
      "gà 98\n",
      "gà 100\n",
      "chó 100\n",
      "gà chó 100\n"
     ]
    }
   ],
   "source": [
    "n = 100\n",
    "a = gà = 2\n",
    "b = chó = 4\n",
    "for i in range(n+1):\n",
    "    if (i !=0):\n",
    "        if (i % a==0):\n",
    "            print (f\"gà {i}\")\n",
    "        if (i % b==0):\n",
    "            print (f\"chó {i}\")\n",
    "        if (i % a==0 and i % b==0):\n",
    "            print (f\"gà chó {i}\")\n",
    "    "
   ]
  },
  {
   "cell_type": "code",
   "execution_count": 56,
   "id": "24c3a201",
   "metadata": {},
   "outputs": [
    {
     "name": "stdout",
     "output_type": "stream",
     "text": [
      "0 0\n",
      "0 1\n",
      "0 2\n",
      "1 0\n",
      "1 1\n",
      "1 2\n"
     ]
    }
   ],
   "source": [
    "for i in range( 2):\n",
    "    for j in range(3):\n",
    "        print (i,j)\n",
    "        "
   ]
  },
  {
   "cell_type": "code",
   "execution_count": 1,
   "id": "2cb0698a",
   "metadata": {},
   "outputs": [
    {
     "ename": "SyntaxError",
     "evalue": "invalid syntax (4003760909.py, line 5)",
     "output_type": "error",
     "traceback": [
      "  \u001b[36mCell\u001b[39m\u001b[36m \u001b[39m\u001b[32mIn[1]\u001b[39m\u001b[32m, line 5\u001b[39m\n\u001b[31m    \u001b[39m\u001b[31mprint (f \"cho {cho} và ga {ga}\")\u001b[39m\n             ^\n\u001b[31mSyntaxError\u001b[39m\u001b[31m:\u001b[39m invalid syntax\n"
     ]
    }
   ],
   "source": [
    "n = 100 \n",
    "for cho in (n//4):\n",
    "    for ga in (n//2):\n",
    "        if (cho * 4 + ga * 2 == n):\n",
    "            print (f \"cho {cho} và ga {ga}\")\n",
    "            "
   ]
  },
  {
   "cell_type": "code",
   "execution_count": null,
   "id": "50d14b8c",
   "metadata": {},
   "outputs": [
    {
     "name": "stdout",
     "output_type": "stream",
     "text": [
      "[[4, 5, 6], [7, 8, 9], [1, 2, 3]]\n"
     ]
    }
   ],
   "source": [
    "x = [[4,5,6],[7,8,9],[1,2,3]]\n",
    "result = list(x)\n",
    "print (result)"
   ]
  },
  {
   "cell_type": "code",
   "execution_count": 13,
   "id": "202f4b6d",
   "metadata": {},
   "outputs": [
    {
     "name": "stdout",
     "output_type": "stream",
     "text": [
      "[5, 5, 7, 9]\n"
     ]
    }
   ],
   "source": [
    "x = [5,7,9,5]\n",
    "for i in range(len(x)-1):\n",
    "    for j in range (i+1, len(x)):\n",
    "        if x[i] > x[j]:\n",
    "            t = x[i]    \n",
    "            x[i] = x[j]\n",
    "            x[j] = t\n",
    "            \n",
    "print(x)"
   ]
  },
  {
   "cell_type": "code",
   "execution_count": 20,
   "id": "8c52f7eb",
   "metadata": {},
   "outputs": [
    {
     "name": "stdout",
     "output_type": "stream",
     "text": [
      "[[4, 7, 9], [6, 8, 3], [2, 8, 9]]\n",
      "\n",
      "[4, 7, 9]\n",
      "in theo mang 2 chieu\n",
      "4 \n",
      "7 \n",
      "9 \n",
      "6 \n",
      "8 \n",
      "3 \n",
      "2 \n",
      "8 \n",
      "9 \n",
      "[6, 8, 3]\n",
      "in theo mang 2 chieu\n",
      "4 \n",
      "7 \n",
      "9 \n",
      "6 \n",
      "8 \n",
      "3 \n",
      "2 \n",
      "8 \n",
      "9 \n",
      "[2, 8, 9]\n",
      "in theo mang 2 chieu\n",
      "4 \n",
      "7 \n",
      "9 \n",
      "6 \n",
      "8 \n",
      "3 \n",
      "2 \n",
      "8 \n",
      "9 \n"
     ]
    }
   ],
   "source": [
    "a = [\n",
    "    [4,7,9],\n",
    "    [6,8,3],\n",
    "    [2,8,9]\n",
    "]\n",
    "print(a)\n",
    "print ()\n",
    "for i in a:\n",
    "    print (i)\n",
    "    print(\"in theo mang 2 chieu\")\n",
    "    for i in range (len (a)):\n",
    "        for j in range (len (a[i])):\n",
    "             print (a[i][j], end=' ')\n",
    "             print()\n"
   ]
  },
  {
   "cell_type": "code",
   "execution_count": 23,
   "id": "9735afe8",
   "metadata": {},
   "outputs": [
    {
     "name": "stdout",
     "output_type": "stream",
     "text": [
      "*\n",
      "**\n",
      "***\n",
      "****\n"
     ]
    }
   ],
   "source": [
    "n = int(input(\"nhập n: \"))\n",
    "print (\"*\")\n",
    "print (\"**\")\n",
    "print (\"***\")\n",
    "print (\"****\")\n",
    "\n"
   ]
  },
  {
   "cell_type": "code",
   "execution_count": 32,
   "id": "ce589135",
   "metadata": {},
   "outputs": [
    {
     "name": "stdout",
     "output_type": "stream",
     "text": [
      "*    \n",
      "**   \n",
      "***  \n",
      "**** \n"
     ]
    }
   ],
   "source": [
    "n = int(input(\"nhập n: \"))\n",
    "for i in range (n):\n",
    "    for j in range(n +1):\n",
    "        if j <= i:\n",
    "            print(\"*\", end=\"\")\n",
    "        else:\n",
    "            print(\" \", end=\"\")\n",
    "    print()"
   ]
  },
  {
   "cell_type": "code",
   "execution_count": 41,
   "id": "5f7a610c",
   "metadata": {},
   "outputs": [
    {
     "name": "stdout",
     "output_type": "stream",
     "text": [
      "* \n",
      "\n",
      "*\n",
      "*\n",
      "*\n",
      "*\n",
      "*\n",
      "*\n",
      "*\n",
      "*\n",
      "*\n",
      "*\n",
      "* * \n",
      "\n",
      "*\n",
      "*\n",
      "*\n",
      "*\n",
      "*\n",
      "*\n",
      "*\n",
      "*\n",
      "*\n",
      "*\n",
      "* * * \n",
      "\n",
      "*\n",
      "*\n",
      "*\n",
      "*\n",
      "*\n",
      "*\n",
      "*\n",
      "*\n",
      "*\n",
      "*\n"
     ]
    }
   ],
   "source": [
    "n = int(input(\"nhập b = \"))\n",
    "for i in range (1, i+1):\n",
    "    print (\"* \" * i)\n",
    "    \n",
    "    \n",
    "    print (\"\")\n",
    "    for i in range (n):\n",
    "        for j in range (i+1):\n",
    "            print (\"*\", end=\"\")\n",
    "            print()\n",
    "            \n",
    "    "
   ]
  },
  {
   "cell_type": "code",
   "execution_count": null,
   "id": "ee7d58b3",
   "metadata": {},
   "outputs": [
    {
     "name": "stdout",
     "output_type": "stream",
     "text": [
      "['Mango', 'Pineapple', 'kiwi', 'orage']\n",
      "['Pineapple', 'orage', 'Mango', 'kiwi']\n",
      "['Mango', 'Pineapple', 'kiwi', 'orage']\n",
      "['Pineapple', 'orage', 'Mango', 'kiwi']\n",
      "['Mango', 'Pineapple', 'kiwi', 'orage']\n"
     ]
    }
   ],
   "source": [
    "a = [\"orage\",\"Mango\",\"kiwi\",\"Pineapple\"]\n",
    "a.sort()\n",
    "print(a)\n",
    "a.sort(reverse=True, key = str.lower)\n",
    "print(a)\n",
    "\n",
    "print (b:=sorted(a)) # tạo ra một bảng mới có thứ tự sắp xếp \n",
    "print (a)\n",
    "print(b)"
   ]
  },
  {
   "cell_type": "code",
   "execution_count": 61,
   "id": "9ea4399e",
   "metadata": {},
   "outputs": [
    {
     "name": "stdout",
     "output_type": "stream",
     "text": [
      "[4, 9, 9] [4, 9, 9]\n",
      "[4, 9, 9] [4, 7, 9]\n",
      "[4, 9, 9] [4, 7]\n",
      "[4, 9, 9] [4] 7\n"
     ]
    }
   ],
   "source": [
    "a = [4,7,9]\n",
    "b = a\n",
    "b [1]+=2 #b[1] = b[1] + 2\n",
    "print(a,b)\n",
    "b = a.copy()  \n",
    "b[1] -= 2\n",
    "print(a, b)\n",
    "\n",
    "\n",
    "b.pop() # bỏ 9\n",
    "print (a, b)\n",
    "x = b.pop() # lấy 7 và gán cho x\n",
    "print(a, b,x)"
   ]
  },
  {
   "cell_type": "code",
   "execution_count": 62,
   "id": "525ffef5",
   "metadata": {},
   "outputs": [
    {
     "name": "stdout",
     "output_type": "stream",
     "text": [
      "5 là số lẻ\n",
      "4 là số chẵn\n"
     ]
    }
   ],
   "source": [
    "def chan0le (x):\n",
    "    if x %2 == 0:\n",
    "        print (x,\"là số chẵn\")\n",
    "    else:\n",
    "        print (x,\"là số lẻ\")\n",
    "        chan0le(4)\n",
    "chan0le(5)  "
   ]
  },
  {
   "cell_type": "code",
   "execution_count": null,
   "id": "e141ad7d",
   "metadata": {},
   "outputs": [
    {
     "name": "stdout",
     "output_type": "stream",
     "text": [
      "7\n",
      "3125\n"
     ]
    }
   ],
   "source": [
    "def binhphuong (x):\n",
    "    return x ** x\n",
    "print(x)\n",
    "print (binhphuong(5))\n"
   ]
  },
  {
   "cell_type": "code",
   "execution_count": 73,
   "id": "f3fe4669",
   "metadata": {},
   "outputs": [],
   "source": [
    "def binhphuong_thamtri(x):\n",
    "    x=x*x\n",
    "    print(x)\n",
    "        \n",
    "        \n",
    "def binhphuong (x): \n",
    "    x = x**x\n",
    "    print(x)\n",
    "    y=4\n",
    "    z = binhphuong_thamtri(y)\n",
    "    print(z,y)\n",
    "    x=binhphuong(y)\n",
    "\n",
    "    print (z,y)\n",
    "    "
   ]
  },
  {
   "cell_type": "code",
   "execution_count": 5,
   "id": "3cdddd27",
   "metadata": {},
   "outputs": [
    {
     "name": "stdout",
     "output_type": "stream",
     "text": [
      "35 40 17 18\n"
     ]
    }
   ],
   "source": [
    "def myFun (x=10,y =15):\n",
    "    return x + y *2\n",
    "x = myFun (5)\n",
    "y = myFun ()\n",
    "z = myFun (5,6)\n",
    "m = myFun(y=5 , x=8)\n",
    "print(x, y, z, m)"
   ]
  },
  {
   "cell_type": "code",
   "execution_count": 8,
   "id": "a63d4c5f",
   "metadata": {},
   "outputs": [],
   "source": [
    "def tongDayso(*a):\n",
    "    tong = 0\n",
    "    for x in a:\n",
    "        tong += x\n",
    "        \n",
    "        return tong \n",
    "    \n",
    "    sum = tongDayso (1,5,6)\n",
    "    a = [5,6,7]\n",
    "    sum2 = tongDayso(*a)\n",
    "    print(sum, sum2)"
   ]
  },
  {
   "cell_type": "code",
   "execution_count": 10,
   "id": "7e3eca9d",
   "metadata": {},
   "outputs": [
    {
     "name": "stdout",
     "output_type": "stream",
     "text": [
      "<class 'int'>\n"
     ]
    }
   ],
   "source": [
    "def sumInt ( a:int, b:int )->int:\n",
    "    return a+b \n",
    "x, y = 6,9\n",
    "z = sumInt(x,y)\n",
    "print (type(z))\n",
    "    "
   ]
  },
  {
   "cell_type": "code",
   "execution_count": 14,
   "id": "7e2363ae",
   "metadata": {},
   "outputs": [],
   "source": [
    "def giaithua (n):\n",
    "    if n <= 1:\n",
    "        return 1\n",
    "    return n * giaithua(n-1)\n",
    "    n = int(input(\"nhan n\"))\n",
    "    \n",
    "    \n",
    "    print(giaithua(n))\n",
    "    "
   ]
  },
  {
   "cell_type": "code",
   "execution_count": 29,
   "id": "93171a6d",
   "metadata": {},
   "outputs": [
    {
     "name": "stdout",
     "output_type": "stream",
     "text": [
      "tong 1\n",
      "tong 2\n",
      "tong 4\n",
      "tong 7\n",
      "tong 12\n"
     ]
    }
   ],
   "source": [
    "\n",
    "def fibo (n):\n",
    "    if (n<=1):\n",
    "        return 1\n",
    "    return fibo (n-1) + fibo (n-2)\n",
    "n = int(input(\"n=\"))\n",
    "tong = 0;\n",
    "for i in range(n):\n",
    "    tong += fibo(i)\n",
    "    print (\"tong\", tong)\n"
   ]
  },
  {
   "cell_type": "code",
   "execution_count": 24,
   "id": "a6bbd902",
   "metadata": {},
   "outputs": [
    {
     "data": {
      "text/plain": [
       "10"
      ]
     },
     "execution_count": 24,
     "metadata": {},
     "output_type": "execute_result"
    }
   ],
   "source": [
    "a = eval (\"(4+1)*2\")\n",
    "a"
   ]
  },
  {
   "cell_type": "code",
   "execution_count": 40,
   "id": "52fd5994",
   "metadata": {},
   "outputs": [
    {
     "ename": "ValueError",
     "evalue": "invalid literal for int() with base 10: ''",
     "output_type": "error",
     "traceback": [
      "\u001b[31m---------------------------------------------------------------------------\u001b[39m",
      "\u001b[31mValueError\u001b[39m                                Traceback (most recent call last)",
      "\u001b[36mCell\u001b[39m\u001b[36m \u001b[39m\u001b[32mIn[40]\u001b[39m\u001b[32m, line 1\u001b[39m\n\u001b[32m----> \u001b[39m\u001b[32m1\u001b[39m n = \u001b[38;5;28;43mint\u001b[39;49m\u001b[43m(\u001b[49m\u001b[38;5;28;43minput\u001b[39;49m\u001b[43m \u001b[49m\u001b[43m(\u001b[49m\u001b[33;43m'\u001b[39;49m\u001b[33;43mnhap a\u001b[39;49m\u001b[33;43m'\u001b[39;49m\u001b[43m)\u001b[49m\u001b[43m)\u001b[49m\n\u001b[32m      2\u001b[39m tongg=\u001b[32m0\u001b[39m\n\u001b[32m      3\u001b[39m \u001b[38;5;28;01mfor\u001b[39;00m i \u001b[38;5;129;01min\u001b[39;00m \u001b[38;5;28mrange\u001b[39m(\u001b[32m1\u001b[39m,n+\u001b[32m1\u001b[39m):\n",
      "\u001b[31mValueError\u001b[39m: invalid literal for int() with base 10: ''"
     ]
    }
   ],
   "source": [
    "n = int(input ('nhap a'))\n",
    "tongg=0\n",
    "for i in range(1,n+1):\n",
    "    tongg += 1/(i*(i+1))\n",
    "print (tong)"
   ]
  },
  {
   "cell_type": "code",
   "execution_count": null,
   "id": "f0c58c2b",
   "metadata": {},
   "outputs": [],
   "source": [
    "import math \n",
    "\n",
    "def languyento(n):\n",
    "    if n < 2:\n",
    "        return False\n",
    "    for i in range(2,int(math.sqrt(n))+1):\n",
    "        if n % i ==0:\n",
    "            return False\n",
    "        return True\n",
    "    \n",
    "    n = int (input(\"nhap n:\"))\n",
    "    if languyento(n):\n",
    "        print(n, \"la so nguyen to\")\n",
    "    else:\n",
    "        print(n , \"khong phai so nguyen to\")\n",
    "        "
   ]
  },
  {
   "cell_type": "code",
   "execution_count": null,
   "id": "6dd5f66a",
   "metadata": {},
   "outputs": [
    {
     "name": "stdout",
     "output_type": "stream",
     "text": [
      "s 1\n"
     ]
    }
   ],
   "source": [
    "n = int(input('nhap n'))\n",
    "\n",
    "\n",
    "s=\"\"\n",
    "while n > 0:\n",
    "    if n % 2 == 0 :\n",
    "        s =\"0\"+s\n",
    "    else:\n",
    "        s = \"1\" + s\n",
    "        n = n // 2\n",
    "        print(\"s\",s)"
   ]
  },
  {
   "cell_type": "markdown",
   "id": "f8450848",
   "metadata": {},
   "source": [
    "percentile"
   ]
  },
  {
   "cell_type": "code",
   "execution_count": 4,
   "id": "472ec77f",
   "metadata": {},
   "outputs": [
    {
     "name": "stdout",
     "output_type": "stream",
     "text": [
      "[1 2 3 4 5]\n"
     ]
    }
   ],
   "source": [
    "import numpy\n",
    "arr = numpy . array ([1,2,3,4,5])\n",
    "print(arr)"
   ]
  },
  {
   "cell_type": "code",
   "execution_count": 3,
   "id": "49183d84",
   "metadata": {},
   "outputs": [
    {
     "name": "stdout",
     "output_type": "stream",
     "text": [
      "[1 2 3 4 5]\n"
     ]
    }
   ],
   "source": [
    "from numpy import * \n",
    "\n",
    "arr = array([1,2,3,4,5])\n",
    "\n",
    "\n",
    "print(arr)"
   ]
  },
  {
   "cell_type": "code",
   "execution_count": 2,
   "id": "b9087e0c",
   "metadata": {},
   "outputs": [
    {
     "name": "stdout",
     "output_type": "stream",
     "text": [
      "[1 2 3 4 5]\n"
     ]
    }
   ],
   "source": [
    "import numpy as np \n",
    "\n",
    "arr = np . array([1,2,3,4,5])\n",
    "\n",
    "print(arr)"
   ]
  },
  {
   "cell_type": "code",
   "execution_count": 5,
   "id": "6c606c3a",
   "metadata": {},
   "outputs": [
    {
     "name": "stdout",
     "output_type": "stream",
     "text": [
      "myList: [99, 86, 87, 88, 111, 86, 103, 87, 94, 78, 77, 85, 86]\n",
      "Giá trị trung bình (mean): 89.76923076923077\n",
      "Trung vị (median): 87.0\n",
      "Phương sai (variance): 85.71597633136093\n",
      "Độ lệch chuẩn (standard deviation): 9.258292301032677\n",
      "\n",
      "ages:\n",
      "Bách phân vị thứ 75 (percentile): 43.0\n",
      "\n",
      "values:\n",
      "Tứ phân vị (quartiles): [21.   41.   49.75]\n"
     ]
    }
   ],
   "source": [
    "import numpy as np\n",
    "\n",
    "myList = [99,86,87,88,111,86,103,87,94,78,77,85,86]\n",
    "\n",
    "mean = np.mean(myList)        # Giá trị trung bình\n",
    "median = np.median(myList)      # Trung vị\n",
    "var = np.var(myList)          # Phương sai\n",
    "std = np.std(myList)          # Độ lệch chuẩn\n",
    "\n",
    "ages = [5,31,43,48,50,41,7,11,15,39,80,82,32,2,8,6,25,36,27,61,31]\n",
    "percentile = np.percentile(ages, 75) # Bách phân vị\n",
    "\n",
    "values = [13,21,21,40,42,48,55,72]\n",
    "x = np.quantile(values, [0.25,0.5,0.75])  # Tứ phân vị\n",
    "\n",
    "print(\"myList:\", myList)\n",
    "print(f\"Giá trị trung bình (mean): {mean}\")\n",
    "print(f\"Trung vị (median): {median}\")\n",
    "print(f\"Phương sai (variance): {var}\")\n",
    "print(f\"Độ lệch chuẩn (standard deviation): {std}\")\n",
    "\n",
    "print(\"\\nages:\")\n",
    "print(f\"Bách phân vị thứ 75 (percentile): {percentile}\")\n",
    "\n",
    "print(\"\\nvalues:\")\n",
    "print(f\"Tứ phân vị (quartiles): {x}\")\n"
   ]
  },
  {
   "cell_type": "code",
   "execution_count": 10,
   "id": "0bf60643",
   "metadata": {},
   "outputs": [
    {
     "data": {
      "image/png": "[encoded data removed]",
      "text/plain": [
       "<Figure size 640x480 with 1 Axes>"
      ]
     },
     "metadata": {},
     "output_type": "display_data"
    }
   ],
   "source": [
    "import matplotlib.pyplot as plt\n",
    "import numpy as np\n",
    "\n",
    "xpoints = np.array([4,8])\n",
    "ypoints = np.array([1,10])\n",
    "\n",
    "plt.plot(xpoints, ypoints)\n",
    "plt.show()"
   ]
  },
  {
   "cell_type": "code",
   "execution_count": 11,
   "id": "de859ad6",
   "metadata": {},
   "outputs": [
    {
     "data": {
      "text/plain": [
       "[<matplotlib.lines.Line2D at 0x208c112d6d0>]"
      ]
     },
     "execution_count": 11,
     "metadata": {},
     "output_type": "execute_result"
    },
    {
     "data": {
      "image/png": "[encoded data removed]",
      "text/plain": [
       "<Figure size 640x480 with 1 Axes>"
      ]
     },
     "metadata": {},
     "output_type": "display_data"
    }
   ],
   "source": [
    "import matplotlib.pyplot as plt\n",
    "x = [1, 2, 3, 4, 5, 6, 7, 8, 9, 10]\n",
    "y = [2, 3, 5, 7, 11, 13, 17, 19, 23, 29]\n",
    "\n",
    "plt.axis([0, 10, 0, 30])  # Thiết lập giới hạn trục x và y\n",
    "plt.plot(x, y, marker='o')"
   ]
  },
  {
   "cell_type": "code",
   "execution_count": 12,
   "id": "b51b4cbc",
   "metadata": {},
   "outputs": [
    {
     "data": {
      "image/png": "[encoded data removed]",
      "text/plain": [
       "<Figure size 640x480 with 1 Axes>"
      ]
     },
     "metadata": {},
     "output_type": "display_data"
    }
   ],
   "source": [
    "import matplotlib.pyplot as plt\n",
    "x= [9,1,2,5,5,5,7,6,7,8,4,3,\n",
    "    7,7,8,9,10,3,6,7,8,2,4,4,6,6]\n",
    "plt.hist(x)\n",
    "plt.show()"
   ]
  },
  {
   "cell_type": "code",
   "execution_count": 5,
   "id": "59ff347c",
   "metadata": {},
   "outputs": [
    {
     "data": {
      "image/png": "[encoded data removed]",
      "text/plain": [
       "<Figure size 640x480 with 1 Axes>"
      ]
     },
     "metadata": {},
     "output_type": "display_data"
    }
   ],
   "source": [
    "import matplotlib.pyplot as plt\n",
    "\n",
    "\n",
    "y = [35, 25, 25, 15,20]\n",
    "\n",
    "plt.pie(y, autopct='%1.1f%%')\n",
    "plt.show()"
   ]
  },
  {
   "cell_type": "code",
   "execution_count": 4,
   "id": "0f4b12ff",
   "metadata": {},
   "outputs": [
    {
     "name": "stdout",
     "output_type": "stream",
     "text": [
      "   preg   plas  pres  skin  test  mass   pedi  age  class\n",
      "0      6   148    72    35     0  33.6  0.627   50      1\n",
      "1      1    85    66    29     0  26.6  0.351   31      0\n",
      "2      8   183    64     0     0  23.3  0.672   32      1\n",
      "3      1    89    66    23    94  28.1  0.167   21      0\n",
      "4      0   137    40    35   168  43.1  2.288   33      1\n",
      "5      5   116    74     0     0  25.6  0.201   30      0\n",
      "6      3    78    50    32    88  31.0  0.248   26      1\n",
      "7     10   115     0     0     0  35.3  0.134   29      0\n",
      "8      2   197    70    45   543  30.5  0.158   53      1\n",
      "9      8   125    96     0     0   0.0  0.232   54      1\n"
     ]
    }
   ],
   "source": [
    "import pandas as pd\n",
    "\n",
    "headernames = ['preg ', 'plas', 'pres','skin','test','mass','pedi','age','class']\n",
    "\n",
    "data = pd.read_csv('pima-indians-diabetes.data.csv', names=headernames)\n",
    "\n",
    "print(data.head(10))  "
   ]
  },
  {
   "cell_type": "code",
   "execution_count": 3,
   "id": "806382e6",
   "metadata": {},
   "outputs": [
    {
     "data": {
      "text/plain": [
       "<function print(*args, sep=' ', end='\\n', file=None, flush=False)>"
      ]
     },
     "execution_count": 3,
     "metadata": {},
     "output_type": "execute_result"
    }
   ],
   "source": [
    "data = {'a': -1.3, 'b': 11.7, 'd':2.0, 'f' :10, 'g' : 5}\n",
    "ser = pd.Series(data,index=['a','c','b','d','e','f'])\n",
    "print"
   ]
  }
 ],
 "metadata": {
  "kernelspec": {
   "display_name": "Python 3",
   "language": "python",
   "name": "python3"
  },
  "language_info": {
   "codemirror_mode": {
    "name": "ipython",
    "version": 3
   },
   "file_extension": ".py",
   "mimetype": "text/x-python",
   "name": "python",
   "nbconvert_exporter": "python",
   "pygments_lexer": "ipython3",
   "version": "3.13.5"
  }
 },
 "nbformat": 4,
 "nbformat_minor": 5
}
