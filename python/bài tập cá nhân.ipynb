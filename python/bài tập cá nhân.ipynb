{
 "cells": [
  {
   "cell_type": "markdown",
   "id": "9b553ea1",
   "metadata": {},
   "source": [
    "câu 1 #1"
   ]
  },
  {
   "cell_type": "code",
   "execution_count": null,
   "id": "00c84534",
   "metadata": {},
   "outputs": [],
   "source": [
    "def maximum_of_three(a, b, c):\n",
    "    return max(a, b, c)"
   ]
  },
  {
   "cell_type": "markdown",
   "id": "c1f7f1fd",
   "metadata": {},
   "source": [
    "câu 2 "
   ]
  },
  {
   "cell_type": "code",
   "execution_count": 2,
   "id": "13d17c54",
   "metadata": {},
   "outputs": [],
   "source": [
    "def sum_list(numbers):\n",
    "    return sum(numbers)"
   ]
  },
  {
   "cell_type": "markdown",
   "id": "b23ed78d",
   "metadata": {},
   "source": [
    "câu 3"
   ]
  },
  {
   "cell_type": "code",
   "execution_count": 3,
   "id": "be0fcb0a",
   "metadata": {},
   "outputs": [],
   "source": [
    "def reverse_string(s):\n",
    "    return s[::-1]  "
   ]
  },
  {
   "cell_type": "markdown",
   "id": "6f72bd4e",
   "metadata": {},
   "source": [
    "câu 3"
   ]
  },
  {
   "cell_type": "code",
   "execution_count": 4,
   "id": "cd26b869",
   "metadata": {},
   "outputs": [],
   "source": [
    "def factorial(n):\n",
    "    if n == 0 or n == 1:\n",
    "        return 1\n",
    "    else:\n",
    "        return n * factorial(n - 1)"
   ]
  },
  {
   "cell_type": "markdown",
   "id": "bd5d9d92",
   "metadata": {},
   "source": [
    "câu 5"
   ]
  },
  {
   "cell_type": "code",
   "execution_count": 5,
   "id": "f7591c0b",
   "metadata": {},
   "outputs": [],
   "source": [
    "def is_prime(n):\n",
    "    if n <= 1:\n",
    "        return False\n",
    "    for i in range(2, int(n**0.5) + 1):\n",
    "        if n % i == 0:\n",
    "            return False"
   ]
  },
  {
   "cell_type": "markdown",
   "id": "d1581510",
   "metadata": {},
   "source": [
    "câu 6"
   ]
  },
  {
   "cell_type": "code",
   "execution_count": 6,
   "id": "ad0aaa13",
   "metadata": {},
   "outputs": [],
   "source": [
    "def prime_less_than(n):\n",
    "    return [i for i in range(2, n) if is_prime(i)]"
   ]
  },
  {
   "cell_type": "markdown",
   "id": "c8b74631",
   "metadata": {},
   "source": [
    "câu 7"
   ]
  },
  {
   "cell_type": "code",
   "execution_count": 7,
   "id": "fdf46cee",
   "metadata": {},
   "outputs": [],
   "source": [
    "def in_perfect(n):\n",
    "    return sum(i for i in range(1, n) if n % i == 0) == n\n",
    "\n",
    "def ferfect_number_below_1000():\n",
    "    return [i for i in range(1, 1000) if in_perfect(i)]"
   ]
  },
  {
   "cell_type": "markdown",
   "id": "be62c4f2",
   "metadata": {},
   "source": [
    "câu 8"
   ]
  },
  {
   "cell_type": "code",
   "execution_count": 12,
   "id": "60dcfafe",
   "metadata": {},
   "outputs": [],
   "source": [
    "import string\n",
    "\n",
    "\n",
    "def in_pangram(s):\n",
    "    alphabet = set('string.ascii_lowercase')\n",
    "    return alphabet.issubset(set(s.lower()))    "
   ]
  },
  {
   "cell_type": "markdown",
   "id": "5c3df4cc",
   "metadata": {},
   "source": [
    "câu 1 #2"
   ]
  },
  {
   "cell_type": "code",
   "execution_count": 13,
   "id": "36f1f1ba",
   "metadata": {},
   "outputs": [],
   "source": [
    "def Fibonacci(n):\n",
    "    a,b = 0, 1\n",
    "    for _ in range(n):\n",
    "        a,b = b, a + b\n",
    "        return a"
   ]
  },
  {
   "cell_type": "markdown",
   "id": "abb4faf7",
   "metadata": {},
   "source": [
    "câu 2 khó quá thầy ơi "
   ]
  },
  {
   "cell_type": "code",
   "execution_count": 14,
   "id": "e22e4b2f",
   "metadata": {},
   "outputs": [],
   "source": [
    "import string\n",
    "\n",
    "def is_strong_password(password):\n",
    "    if len(password) <= 6:\n",
    "        return False\n",
    "    has_upper = any(c.isupper() for c in password)\n",
    "    has_lower = any(c.islower() for c in password)\n",
    "    has_digit = any(c.isdigit() for c in password)\n",
    "    has_special = any(c in string.punctuation for c in password)\n",
    "    return has_upper and has_lower and has_digit and has_special\n"
   ]
  },
  {
   "cell_type": "markdown",
   "id": "9452fdb5",
   "metadata": {},
   "source": [
    "câu 3"
   ]
  },
  {
   "cell_type": "code",
   "execution_count": 15,
   "id": "d4df0242",
   "metadata": {},
   "outputs": [],
   "source": [
    "def count_characters(s):\n",
    "    upper = sum(1 for c in s if c.isupper())\n",
    "    lower = sum(1 for c in s if c.islower())\n",
    "    digits = sum(1 for c in s if c.isdigit())\n",
    "    return upper, lower, digits\n"
   ]
  },
  {
   "cell_type": "markdown",
   "id": "c9d9097f",
   "metadata": {},
   "source": [
    "câu 4"
   ]
  },
  {
   "cell_type": "code",
   "execution_count": 16,
   "id": "94818373",
   "metadata": {},
   "outputs": [],
   "source": [
    "def extract_name(full_name):\n",
    "    parts = full_name.split()\n",
    "    return parts[0], parts[-1] if len(parts) > 1 else (parts[0], '')"
   ]
  },
  {
   "cell_type": "markdown",
   "id": "d03b0a45",
   "metadata": {},
   "source": [
    "câu 5"
   ]
  },
  {
   "cell_type": "code",
   "execution_count": 20,
   "id": "8488013f",
   "metadata": {},
   "outputs": [],
   "source": [
    "import math\n",
    "\n",
    "\n",
    "def songuyento(n):\n",
    "    if n < 2:\n",
    "        return False\n",
    "    for i in range(2, int(math.songuyento(n))+1):\n",
    "        if n % i == 0:\n",
    "            return False\n",
    "    return True\n"
   ]
  },
  {
   "cell_type": "markdown",
   "id": "0331aac9",
   "metadata": {},
   "source": [
    "câu 6 (câu này cũng khó thầy ơi)"
   ]
  },
  {
   "cell_type": "code",
   "execution_count": 24,
   "id": "c1b33c36",
   "metadata": {},
   "outputs": [],
   "source": [
    "def find_first_index(lst, k):\n",
    "    for i, val in enumerate(lst):\n",
    "        if val == k:\n",
    "            return i\n",
    "    return -1 \n",
    "\n",
    "\n",
    "\n",
    "def average_until_L(lst, L):\n",
    "    if L not in lst:\n",
    "        return None\n",
    "    index = lst.index(l)\n",
    "    sub_list = lst[:index]\n",
    "    return sum(sub_list) \n"
   ]
  }
 ],
 "metadata": {
  "kernelspec": {
   "display_name": "Python 3",
   "language": "python",
   "name": "python3"
  },
  "language_info": {
   "codemirror_mode": {
    "name": "ipython",
    "version": 3
   },
   "file_extension": ".py",
   "mimetype": "text/x-python",
   "name": "python",
   "nbconvert_exporter": "python",
   "pygments_lexer": "ipython3",
   "version": "3.13.5"
  }
 },
 "nbformat": 4,
 "nbformat_minor": 5
}
