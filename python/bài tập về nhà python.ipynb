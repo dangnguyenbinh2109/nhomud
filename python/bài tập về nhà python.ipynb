{
 "cells": [
  {
   "cell_type": "markdown",
   "id": "3783c795",
   "metadata": {},
   "source": [
    "python if"
   ]
  },
  {
   "cell_type": "markdown",
   "id": "6d768b27",
   "metadata": {},
   "source": [
    "câu 1"
   ]
  },
  {
   "cell_type": "code",
   "execution_count": 1,
   "id": "33a82f43",
   "metadata": {},
   "outputs": [
    {
     "name": "stdout",
     "output_type": "stream",
     "text": [
      "You are eligible to vote.\n"
     ]
    }
   ],
   "source": [
    "age = int(input(\"Enter your age: \"))\n",
    "if age >= 18:\n",
    "    print(\"You are eligible to vote.\")\n",
    "else:\n",
    "    print(\"You are not eligible to vote.\")\n"
   ]
  },
  {
   "cell_type": "markdown",
   "id": "f4368df4",
   "metadata": {},
   "source": [
    "câu 2"
   ]
  },
  {
   "cell_type": "code",
   "execution_count": 2,
   "id": "cac484e4",
   "metadata": {},
   "outputs": [
    {
     "name": "stdout",
     "output_type": "stream",
     "text": [
      "The number is even.\n"
     ]
    }
   ],
   "source": [
    "num = int(input(\"Enter a number: \"))\n",
    "if num % 2 == 0:\n",
    "    print(\"The number is even.\")\n",
    "else:\n",
    "    print(\"The number is odd.\")\n"
   ]
  },
  {
   "cell_type": "markdown",
   "id": "45008a7b",
   "metadata": {},
   "source": [
    "câu 3"
   ]
  },
  {
   "cell_type": "code",
   "execution_count": 3,
   "id": "f5bc7931",
   "metadata": {},
   "outputs": [
    {
     "name": "stdout",
     "output_type": "stream",
     "text": [
      "The number is not divisible by 7.\n"
     ]
    }
   ],
   "source": [
    "num = int(input(\"Enter a number: \"))\n",
    "if num % 7 == 0:\n",
    "    print(\"The number is divisible by 7.\")\n",
    "else:\n",
    "    print(\"The number is not divisible by 7.\")\n"
   ]
  },
  {
   "cell_type": "markdown",
   "id": "7ea6c031",
   "metadata": {},
   "source": [
    "câu 4"
   ]
  },
  {
   "cell_type": "code",
   "execution_count": 4,
   "id": "f954b259",
   "metadata": {},
   "outputs": [
    {
     "name": "stdout",
     "output_type": "stream",
     "text": [
      "The last digit is divisible by 3.\n"
     ]
    }
   ],
   "source": [
    "num = int(input(\"Enter a number: \"))\n",
    "last_digit = num % 10\n",
    "if last_digit % 3 == 0:\n",
    "    print(\"The last digit is divisible by 3.\")\n",
    "else:\n",
    "    print(\"The last digit is not divisible by 3.\")\n"
   ]
  },
  {
   "cell_type": "markdown",
   "id": "a78b399f",
   "metadata": {},
   "source": [
    "câu 5"
   ]
  },
  {
   "cell_type": "code",
   "execution_count": 5,
   "id": "4ca2caf2",
   "metadata": {},
   "outputs": [
    {
     "name": "stdout",
     "output_type": "stream",
     "text": [
      "Sorry, try again.\n"
     ]
    }
   ],
   "source": [
    "secret = 5 \n",
    "guess = int(input(\"Guess a number between 1 and 9: \"))\n",
    "if guess == secret:\n",
    "    print(\"Congratulations! You guessed it.\")\n",
    "else:\n",
    "    print(\"Sorry, try again.\")\n"
   ]
  },
  {
   "cell_type": "markdown",
   "id": "31fdd0db",
   "metadata": {},
   "source": [
    "câu 6"
   ]
  },
  {
   "cell_type": "code",
   "execution_count": 6,
   "id": "39f7d134",
   "metadata": {},
   "outputs": [
    {
     "name": "stdout",
     "output_type": "stream",
     "text": [
      "Thursday\n"
     ]
    }
   ],
   "source": [
    "day_num = int(input(\"Enter a number from 1 to 7: \"))\n",
    "if day_num == 1:\n",
    "    print(\"Sunday\")\n",
    "elif day_num == 2:\n",
    "    print(\"Monday\")\n",
    "elif day_num == 3:\n",
    "    print(\"Tuesday\")\n",
    "elif day_num == 4:\n",
    "    print(\"Wednesday\")\n",
    "elif day_num == 5:\n",
    "    print(\"Thursday\")\n",
    "elif day_num == 6:\n",
    "    print(\"Friday\")\n",
    "elif day_num == 7:\n",
    "    print(\"Saturday\")\n",
    "else:\n",
    "    print(\"Invalid input. Enter a number from 1 to 7.\")\n"
   ]
  },
  {
   "cell_type": "markdown",
   "id": "b45aa53f",
   "metadata": {},
   "source": [
    "operators"
   ]
  },
  {
   "cell_type": "markdown",
   "id": "93ec1051",
   "metadata": {},
   "source": [
    "câu 1"
   ]
  },
  {
   "cell_type": "code",
   "execution_count": 7,
   "id": "eba390a9",
   "metadata": {},
   "outputs": [
    {
     "name": "stdout",
     "output_type": "stream",
     "text": [
      "Area of the triangle is: 375.0\n"
     ]
    }
   ],
   "source": [
    "base = float(input(\"Enter the base of the triangle: \"))\n",
    "height = float(input(\"Enter the height of the triangle: \"))\n",
    "area = 0.5 * base * height\n",
    "print(\"Area of the triangle is:\", area)\n"
   ]
  },
  {
   "cell_type": "markdown",
   "id": "18f36ab2",
   "metadata": {},
   "source": [
    "câu 2"
   ]
  },
  {
   "cell_type": "code",
   "execution_count": 8,
   "id": "77204adb",
   "metadata": {},
   "outputs": [
    {
     "name": "stdout",
     "output_type": "stream",
     "text": [
      "Perimeter of the triangle is: 70.0\n"
     ]
    }
   ],
   "source": [
    "a = float(input(\"Enter side a: \"))\n",
    "b = float(input(\"Enter side b: \"))\n",
    "c = float(input(\"Enter side c: \"))\n",
    "perimeter = a + b + c\n",
    "print(\"Perimeter of the triangle is:\", perimeter)\n"
   ]
  },
  {
   "cell_type": "markdown",
   "id": "25e0e848",
   "metadata": {},
   "source": [
    "câu 3"
   ]
  },
  {
   "cell_type": "code",
   "execution_count": 9,
   "id": "bc11727f",
   "metadata": {},
   "outputs": [
    {
     "name": "stdout",
     "output_type": "stream",
     "text": [
      "Area: 25.0\n",
      "Perimeter: 20.0\n"
     ]
    }
   ],
   "source": [
    "length = float(input(\"Enter the length: \"))\n",
    "width = float(input(\"Enter the width: \"))\n",
    "area = length * width\n",
    "perimeter = 2 * (length + width)\n",
    "print(\"Area:\", area)\n",
    "print(\"Perimeter:\", perimeter)\n"
   ]
  },
  {
   "cell_type": "markdown",
   "id": "5b83a667",
   "metadata": {},
   "source": [
    "câu 4"
   ]
  },
  {
   "cell_type": "code",
   "execution_count": 10,
   "id": "3162d27e",
   "metadata": {},
   "outputs": [
    {
     "name": "stdout",
     "output_type": "stream",
     "text": [
      "Area of the circle: 78.5\n",
      "Circumference of the circle: 31.400000000000002\n"
     ]
    }
   ],
   "source": [
    "radius = float(input(\"Enter the radius: \"))\n",
    "pi = 3.14\n",
    "area = pi * radius * radius\n",
    "circumference = 2 * pi * radius\n",
    "print(\"Area of the circle:\", area)\n",
    "print(\"Circumference of the circle:\", circumference)\n"
   ]
  },
  {
   "cell_type": "markdown",
   "id": "f8d658e1",
   "metadata": {},
   "source": [
    "câu 5"
   ]
  },
  {
   "cell_type": "code",
   "execution_count": 1,
   "id": "36db0bf8",
   "metadata": {},
   "outputs": [
    {
     "name": "stdout",
     "output_type": "stream",
     "text": [
      "Slope: 2\n",
      "X-intercept: 1.0\n",
      "Y-intercept: -2\n"
     ]
    }
   ],
   "source": [
    "\n",
    "slope = 2\n",
    "x_intercept = 2 / 2 \n",
    "y_intercept = -2     \n",
    "print(\"Slope:\", slope)\n",
    "print(\"X-intercept:\", x_intercept)\n",
    "print(\"Y-intercept:\", y_intercept)\n"
   ]
  },
  {
   "cell_type": "markdown",
   "id": "8c1a8ede",
   "metadata": {},
   "source": [
    "câu 6"
   ]
  },
  {
   "cell_type": "code",
   "execution_count": 12,
   "id": "46b6ab93",
   "metadata": {},
   "outputs": [
    {
     "name": "stdout",
     "output_type": "stream",
     "text": [
      "Slope: 2.0\n",
      "Euclidean distance: 8.94427190999916\n"
     ]
    }
   ],
   "source": [
    "import math\n",
    "\n",
    "x1, y1 = 2, 2\n",
    "x2, y2 = 6, 10\n",
    "\n",
    "slope = (y2 - y1) / (x2 - x1)\n",
    "distance = math.sqrt((x2 - x1)**2 + (y2 - y1)**2)\n",
    "\n",
    "print(\"Slope:\", slope)\n",
    "print(\"Euclidean distance:\", distance)\n"
   ]
  },
  {
   "cell_type": "markdown",
   "id": "82f7d2e0",
   "metadata": {},
   "source": [
    "câu 7"
   ]
  },
  {
   "cell_type": "code",
   "execution_count": null,
   "id": "17c6206a",
   "metadata": {},
   "outputs": [
    {
     "name": "stdout",
     "output_type": "stream",
     "text": [
      "Are the slopes equal? True\n"
     ]
    }
   ],
   "source": [
    "slope1 = 2\n",
    "slope2 = (10 - 2) / (6 - 2)  \n",
    "print(\"Are the slopes equal?\", slope1 == slope2)\n"
   ]
  },
  {
   "cell_type": "markdown",
   "id": "c3a20e7c",
   "metadata": {},
   "source": [
    "câu 8"
   ]
  },
  {
   "cell_type": "code",
   "execution_count": 14,
   "id": "e9dbf381",
   "metadata": {},
   "outputs": [
    {
     "name": "stdout",
     "output_type": "stream",
     "text": [
      "x = -10, y = 49\n",
      "x = -9, y = 36\n",
      "x = -8, y = 25\n",
      "x = -7, y = 16\n",
      "x = -6, y = 9\n",
      "x = -5, y = 4\n",
      "x = -4, y = 1\n",
      "x = -3, y = 0\n",
      "y = 0 when x = -3\n",
      "x = -2, y = 1\n",
      "x = -1, y = 4\n",
      "x = 0, y = 9\n",
      "x = 1, y = 16\n",
      "x = 2, y = 25\n",
      "x = 3, y = 36\n",
      "x = 4, y = 49\n"
     ]
    }
   ],
   "source": [
    "for x in range(-10, 5):\n",
    "    y = x**2 + 6*x + 9\n",
    "    print(f\"x = {x}, y = {y}\")\n",
    "    if y == 0:\n",
    "        print(\"y = 0 when x =\", x)\n"
   ]
  },
  {
   "cell_type": "markdown",
   "id": "f70dc0c7",
   "metadata": {},
   "source": [
    "câu 9"
   ]
  },
  {
   "cell_type": "code",
   "execution_count": null,
   "id": "5e67ab48",
   "metadata": {},
   "outputs": [
    {
     "name": "stdout",
     "output_type": "stream",
     "text": [
      "Length of 'python': 6\n",
      "Length of 'dragon': 6\n",
      "Are 'python' and 'dragon' lengths equal and type is int? False\n"
     ]
    }
   ],
   "source": [
    "a = 'python'\n",
    "b = 'dragon'\n",
    "print(\"Length of 'python':\", len(a))\n",
    "print(\"Length of 'dragon':\", len(b))\n",
    "\n",
    "\n",
    "print(\"Are 'python' and 'dragon' lengths equal and type is int?\", len(a) == len(b) and type(a) == int)\n"
   ]
  },
  {
   "cell_type": "markdown",
   "id": "5853374d",
   "metadata": {},
   "source": [
    "câu 10"
   ]
  },
  {
   "cell_type": "code",
   "execution_count": 16,
   "id": "6777de0a",
   "metadata": {},
   "outputs": [
    {
     "name": "stdout",
     "output_type": "stream",
     "text": [
      "True\n"
     ]
    }
   ],
   "source": [
    "print('on' in 'python' and 'on' in 'dragon')\n"
   ]
  },
  {
   "cell_type": "markdown",
   "id": "df320699",
   "metadata": {},
   "source": [
    "câu 11"
   ]
  },
  {
   "cell_type": "code",
   "execution_count": 17,
   "id": "48ff3062",
   "metadata": {},
   "outputs": [
    {
     "name": "stdout",
     "output_type": "stream",
     "text": [
      "True\n"
     ]
    }
   ],
   "source": [
    "sentence = \"I hope this course is not full of jargon.\"\n",
    "print(\"jargon\" in sentence)\n"
   ]
  },
  {
   "cell_type": "markdown",
   "id": "d718c414",
   "metadata": {},
   "source": [
    "câu 12"
   ]
  },
  {
   "cell_type": "code",
   "execution_count": 18,
   "id": "96c5c6ea",
   "metadata": {},
   "outputs": [
    {
     "name": "stdout",
     "output_type": "stream",
     "text": [
      "False\n"
     ]
    }
   ],
   "source": [
    "print('on' not in 'dragon' and 'on' not in 'python')\n"
   ]
  },
  {
   "cell_type": "markdown",
   "id": "8b08a658",
   "metadata": {},
   "source": [
    "câu 13"
   ]
  },
  {
   "cell_type": "code",
   "execution_count": 19,
   "id": "ef2773ab",
   "metadata": {},
   "outputs": [
    {
     "name": "stdout",
     "output_type": "stream",
     "text": [
      "Length: 6\n",
      "Float: 6.0\n",
      "String: 6.0\n"
     ]
    }
   ],
   "source": [
    "text = \"python\"\n",
    "length = len(text)\n",
    "length_float = float(length)\n",
    "length_str = str(length_float)\n",
    "print(\"Length:\", length)\n",
    "print(\"Float:\", length_float)\n",
    "print(\"String:\", length_str)\n"
   ]
  },
  {
   "cell_type": "markdown",
   "id": "f449f725",
   "metadata": {},
   "source": [
    "câu 14"
   ]
  },
  {
   "cell_type": "code",
   "execution_count": 21,
   "id": "07611754",
   "metadata": {},
   "outputs": [
    {
     "name": "stdout",
     "output_type": "stream",
     "text": [
      "Even number\n"
     ]
    }
   ],
   "source": [
    "num = int(input(\"Enter a number: \"))\n",
    "if num % 2 == 0:\n",
    "    print(\"Even number\")\n",
    "else:\n",
    "    print(\"Odd number\")\n"
   ]
  },
  {
   "cell_type": "markdown",
   "id": "0b5af010",
   "metadata": {},
   "source": [
    "câu 15"
   ]
  },
  {
   "cell_type": "code",
   "execution_count": 22,
   "id": "71efadfd",
   "metadata": {},
   "outputs": [
    {
     "name": "stdout",
     "output_type": "stream",
     "text": [
      "Total pay: 10.0\n"
     ]
    }
   ],
   "source": [
    "hours = float(input(\"Enter hours worked: \"))\n",
    "rate = float(input(\"Enter rate per hour: \"))\n",
    "pay = hours * rate\n",
    "print(\"Total pay:\", pay)\n"
   ]
  },
  {
   "cell_type": "markdown",
   "id": "a327ad80",
   "metadata": {},
   "source": [
    "câu 16"
   ]
  },
  {
   "cell_type": "code",
   "execution_count": 23,
   "id": "7d816d0e",
   "metadata": {},
   "outputs": [
    {
     "name": "stdout",
     "output_type": "stream",
     "text": [
      "You have lived for 157680000 seconds\n"
     ]
    }
   ],
   "source": [
    "years = int(input(\"Enter number of years: \"))\n",
    "seconds_in_a_year = 365 * 24 * 60 * 60\n",
    "total_seconds = years * seconds_in_a_year\n",
    "print(\"You have lived for\", total_seconds, \"seconds\")\n"
   ]
  }
 ],
 "metadata": {
  "kernelspec": {
   "display_name": "Python 3",
   "language": "python",
   "name": "python3"
  },
  "language_info": {
   "codemirror_mode": {
    "name": "ipython",
    "version": 3
   },
   "file_extension": ".py",
   "mimetype": "text/x-python",
   "name": "python",
   "nbconvert_exporter": "python",
   "pygments_lexer": "ipython3",
   "version": "3.13.5"
  }
 },
 "nbformat": 4,
 "nbformat_minor": 5
}
